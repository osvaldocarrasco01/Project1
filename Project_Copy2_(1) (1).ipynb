{
  "cells": [
    {
      "cell_type": "code",
      "source": [
        "from google.colab import drive \n",
        "drive.mount('/content/gdrive',force_remount=True)\n",
        "\n",
        "import os\n",
        "os.chdir(\"gdrive/My Drive/Colab Notebooks\") "
      ],
      "metadata": {
        "colab": {
          "base_uri": "https://localhost:8080/"
        },
        "id": "GqkrlN3ho5Yx",
        "outputId": "c8b2296c-9e6f-4cd3-fafb-a88e03156ed7"
      },
      "id": "GqkrlN3ho5Yx",
      "execution_count": 3,
      "outputs": [
        {
          "output_type": "stream",
          "name": "stdout",
          "text": [
            "Mounted at /content/gdrive\n"
          ]
        }
      ]
    },
    {
      "cell_type": "code",
      "execution_count": 2,
      "id": "8ae0ab18",
      "metadata": {
        "id": "8ae0ab18"
      },
      "outputs": [],
      "source": [
        "import numpy as np\n",
        "import pandas as pd  \n",
        "from sklearn.model_selection import train_test_split\n",
        "import matplotlib.pyplot as plt\n",
        "import glob\n",
        "import os \n",
        "from scipy import stats \n",
        "import torch\n",
        "import torch.nn as nn\n",
        "import torch.nn.functional as F\n",
        "import matplotlib.pyplot as plt\n",
        "import matplotlib.colors\n",
        "from torch.nn import Linear, ReLU, CrossEntropyLoss, Sequential, Conv2d, MaxPool2d, Module, Softmax, BatchNorm2d, Dropout"
      ]
    },
    {
      "cell_type": "code",
      "execution_count": 3,
      "id": "4fc356ab",
      "metadata": {
        "id": "4fc356ab"
      },
      "outputs": [],
      "source": [
        "import torchvision.transforms as transforms\n",
        "from torch._tensor import Tensor\n",
        "from torch.utils.data import DataLoader, Dataset, Subset\n",
        "#device = torch.device('cuda' if torch.cuda.is_available() else 'cpu')\n",
        "from matplotlib.pyplot import figure"
      ]
    },
    {
      "cell_type": "code",
      "execution_count": 4,
      "id": "63644f25",
      "metadata": {
        "id": "63644f25"
      },
      "outputs": [],
      "source": [
        "from itertools import accumulate\n",
        "from typing import Dict, List, Optional, Tuple"
      ]
    },
    {
      "cell_type": "code",
      "source": [
        "pip install ax-platform"
      ],
      "metadata": {
        "colab": {
          "base_uri": "https://localhost:8080/"
        },
        "id": "HsbRkDTVp9VB",
        "outputId": "7b22efe9-ecf5-4a0b-dc9d-ecfab48b5e6d"
      },
      "id": "HsbRkDTVp9VB",
      "execution_count": 5,
      "outputs": [
        {
          "output_type": "stream",
          "name": "stdout",
          "text": [
            "Looking in indexes: https://pypi.org/simple, https://us-python.pkg.dev/colab-wheels/public/simple/\n",
            "Requirement already satisfied: ax-platform in /usr/local/lib/python3.8/dist-packages (0.2.10)\n",
            "Requirement already satisfied: botorch==0.8.0 in /usr/local/lib/python3.8/dist-packages (from ax-platform) (0.8.0)\n",
            "Requirement already satisfied: scikit-learn in /usr/local/lib/python3.8/dist-packages (from ax-platform) (1.0.2)\n",
            "Requirement already satisfied: scipy in /usr/local/lib/python3.8/dist-packages (from ax-platform) (1.7.3)\n",
            "Requirement already satisfied: ipywidgets<8.0.0 in /usr/local/lib/python3.8/dist-packages (from ax-platform) (7.7.1)\n",
            "Requirement already satisfied: plotly in /usr/local/lib/python3.8/dist-packages (from ax-platform) (5.5.0)\n",
            "Requirement already satisfied: pandas in /usr/local/lib/python3.8/dist-packages (from ax-platform) (1.3.5)\n",
            "Requirement already satisfied: jinja2 in /usr/local/lib/python3.8/dist-packages (from ax-platform) (2.11.3)\n",
            "Requirement already satisfied: typeguard in /usr/local/lib/python3.8/dist-packages (from ax-platform) (2.7.1)\n",
            "Requirement already satisfied: linear-operator==0.2.0 in /usr/local/lib/python3.8/dist-packages (from botorch==0.8.0->ax-platform) (0.2.0)\n",
            "Requirement already satisfied: pyro-ppl>=1.8.2 in /usr/local/lib/python3.8/dist-packages (from botorch==0.8.0->ax-platform) (1.8.4)\n",
            "Requirement already satisfied: multipledispatch in /usr/local/lib/python3.8/dist-packages (from botorch==0.8.0->ax-platform) (0.6.0)\n",
            "Requirement already satisfied: torch>=1.11 in /usr/local/lib/python3.8/dist-packages (from botorch==0.8.0->ax-platform) (1.13.1+cu116)\n",
            "Requirement already satisfied: gpytorch==1.9.0 in /usr/local/lib/python3.8/dist-packages (from botorch==0.8.0->ax-platform) (1.9.0)\n",
            "Requirement already satisfied: ipython>=4.0.0 in /usr/local/lib/python3.8/dist-packages (from ipywidgets<8.0.0->ax-platform) (7.9.0)\n",
            "Requirement already satisfied: jupyterlab-widgets>=1.0.0 in /usr/local/lib/python3.8/dist-packages (from ipywidgets<8.0.0->ax-platform) (3.0.5)\n",
            "Requirement already satisfied: traitlets>=4.3.1 in /usr/local/lib/python3.8/dist-packages (from ipywidgets<8.0.0->ax-platform) (5.7.1)\n",
            "Requirement already satisfied: ipython-genutils~=0.2.0 in /usr/local/lib/python3.8/dist-packages (from ipywidgets<8.0.0->ax-platform) (0.2.0)\n",
            "Requirement already satisfied: widgetsnbextension~=3.6.0 in /usr/local/lib/python3.8/dist-packages (from ipywidgets<8.0.0->ax-platform) (3.6.1)\n",
            "Requirement already satisfied: ipykernel>=4.5.1 in /usr/local/lib/python3.8/dist-packages (from ipywidgets<8.0.0->ax-platform) (5.3.4)\n",
            "Requirement already satisfied: MarkupSafe>=0.23 in /usr/local/lib/python3.8/dist-packages (from jinja2->ax-platform) (2.0.1)\n",
            "Requirement already satisfied: numpy>=1.17.3 in /usr/local/lib/python3.8/dist-packages (from pandas->ax-platform) (1.21.6)\n",
            "Requirement already satisfied: pytz>=2017.3 in /usr/local/lib/python3.8/dist-packages (from pandas->ax-platform) (2022.7.1)\n",
            "Requirement already satisfied: python-dateutil>=2.7.3 in /usr/local/lib/python3.8/dist-packages (from pandas->ax-platform) (2.8.2)\n",
            "Requirement already satisfied: tenacity>=6.2.0 in /usr/local/lib/python3.8/dist-packages (from plotly->ax-platform) (8.2.0)\n",
            "Requirement already satisfied: six in /usr/local/lib/python3.8/dist-packages (from plotly->ax-platform) (1.15.0)\n",
            "Requirement already satisfied: joblib>=0.11 in /usr/local/lib/python3.8/dist-packages (from scikit-learn->ax-platform) (1.2.0)\n",
            "Requirement already satisfied: threadpoolctl>=2.0.0 in /usr/local/lib/python3.8/dist-packages (from scikit-learn->ax-platform) (3.1.0)\n",
            "Requirement already satisfied: tornado>=4.2 in /usr/local/lib/python3.8/dist-packages (from ipykernel>=4.5.1->ipywidgets<8.0.0->ax-platform) (6.0.4)\n",
            "Requirement already satisfied: jupyter-client in /usr/local/lib/python3.8/dist-packages (from ipykernel>=4.5.1->ipywidgets<8.0.0->ax-platform) (6.1.12)\n",
            "Requirement already satisfied: decorator in /usr/local/lib/python3.8/dist-packages (from ipython>=4.0.0->ipywidgets<8.0.0->ax-platform) (4.4.2)\n",
            "Requirement already satisfied: pygments in /usr/local/lib/python3.8/dist-packages (from ipython>=4.0.0->ipywidgets<8.0.0->ax-platform) (2.6.1)\n",
            "Requirement already satisfied: prompt-toolkit<2.1.0,>=2.0.0 in /usr/local/lib/python3.8/dist-packages (from ipython>=4.0.0->ipywidgets<8.0.0->ax-platform) (2.0.10)\n",
            "Requirement already satisfied: pickleshare in /usr/local/lib/python3.8/dist-packages (from ipython>=4.0.0->ipywidgets<8.0.0->ax-platform) (0.7.5)\n",
            "Requirement already satisfied: backcall in /usr/local/lib/python3.8/dist-packages (from ipython>=4.0.0->ipywidgets<8.0.0->ax-platform) (0.2.0)\n",
            "Requirement already satisfied: setuptools>=18.5 in /usr/local/lib/python3.8/dist-packages (from ipython>=4.0.0->ipywidgets<8.0.0->ax-platform) (57.4.0)\n",
            "Requirement already satisfied: pexpect in /usr/local/lib/python3.8/dist-packages (from ipython>=4.0.0->ipywidgets<8.0.0->ax-platform) (4.8.0)\n",
            "Requirement already satisfied: jedi>=0.10 in /usr/local/lib/python3.8/dist-packages (from ipython>=4.0.0->ipywidgets<8.0.0->ax-platform) (0.18.2)\n",
            "Requirement already satisfied: pyro-api>=0.1.1 in /usr/local/lib/python3.8/dist-packages (from pyro-ppl>=1.8.2->botorch==0.8.0->ax-platform) (0.1.2)\n",
            "Requirement already satisfied: opt-einsum>=2.3.2 in /usr/local/lib/python3.8/dist-packages (from pyro-ppl>=1.8.2->botorch==0.8.0->ax-platform) (3.3.0)\n",
            "Requirement already satisfied: tqdm>=4.36 in /usr/local/lib/python3.8/dist-packages (from pyro-ppl>=1.8.2->botorch==0.8.0->ax-platform) (4.64.1)\n",
            "Requirement already satisfied: typing-extensions in /usr/local/lib/python3.8/dist-packages (from torch>=1.11->botorch==0.8.0->ax-platform) (4.4.0)\n",
            "Requirement already satisfied: notebook>=4.4.1 in /usr/local/lib/python3.8/dist-packages (from widgetsnbextension~=3.6.0->ipywidgets<8.0.0->ax-platform) (5.7.16)\n",
            "Requirement already satisfied: parso<0.9.0,>=0.8.0 in /usr/local/lib/python3.8/dist-packages (from jedi>=0.10->ipython>=4.0.0->ipywidgets<8.0.0->ax-platform) (0.8.3)\n",
            "Requirement already satisfied: terminado>=0.8.1 in /usr/local/lib/python3.8/dist-packages (from notebook>=4.4.1->widgetsnbextension~=3.6.0->ipywidgets<8.0.0->ax-platform) (0.13.3)\n",
            "Requirement already satisfied: nbformat in /usr/local/lib/python3.8/dist-packages (from notebook>=4.4.1->widgetsnbextension~=3.6.0->ipywidgets<8.0.0->ax-platform) (5.7.3)\n",
            "Requirement already satisfied: nbconvert<6.0 in /usr/local/lib/python3.8/dist-packages (from notebook>=4.4.1->widgetsnbextension~=3.6.0->ipywidgets<8.0.0->ax-platform) (5.6.1)\n",
            "Requirement already satisfied: jupyter-core>=4.4.0 in /usr/local/lib/python3.8/dist-packages (from notebook>=4.4.1->widgetsnbextension~=3.6.0->ipywidgets<8.0.0->ax-platform) (5.2.0)\n",
            "Requirement already satisfied: Send2Trash in /usr/local/lib/python3.8/dist-packages (from notebook>=4.4.1->widgetsnbextension~=3.6.0->ipywidgets<8.0.0->ax-platform) (1.8.0)\n",
            "Requirement already satisfied: prometheus-client in /usr/local/lib/python3.8/dist-packages (from notebook>=4.4.1->widgetsnbextension~=3.6.0->ipywidgets<8.0.0->ax-platform) (0.16.0)\n",
            "Requirement already satisfied: pyzmq>=17 in /usr/local/lib/python3.8/dist-packages (from notebook>=4.4.1->widgetsnbextension~=3.6.0->ipywidgets<8.0.0->ax-platform) (23.2.1)\n",
            "Requirement already satisfied: wcwidth in /usr/local/lib/python3.8/dist-packages (from prompt-toolkit<2.1.0,>=2.0.0->ipython>=4.0.0->ipywidgets<8.0.0->ax-platform) (0.2.6)\n",
            "Requirement already satisfied: ptyprocess>=0.5 in /usr/local/lib/python3.8/dist-packages (from pexpect->ipython>=4.0.0->ipywidgets<8.0.0->ax-platform) (0.7.0)\n",
            "Requirement already satisfied: platformdirs>=2.5 in /usr/local/lib/python3.8/dist-packages (from jupyter-core>=4.4.0->notebook>=4.4.1->widgetsnbextension~=3.6.0->ipywidgets<8.0.0->ax-platform) (3.0.0)\n",
            "Requirement already satisfied: bleach in /usr/local/lib/python3.8/dist-packages (from nbconvert<6.0->notebook>=4.4.1->widgetsnbextension~=3.6.0->ipywidgets<8.0.0->ax-platform) (6.0.0)\n",
            "Requirement already satisfied: mistune<2,>=0.8.1 in /usr/local/lib/python3.8/dist-packages (from nbconvert<6.0->notebook>=4.4.1->widgetsnbextension~=3.6.0->ipywidgets<8.0.0->ax-platform) (0.8.4)\n",
            "Requirement already satisfied: pandocfilters>=1.4.1 in /usr/local/lib/python3.8/dist-packages (from nbconvert<6.0->notebook>=4.4.1->widgetsnbextension~=3.6.0->ipywidgets<8.0.0->ax-platform) (1.5.0)\n",
            "Requirement already satisfied: testpath in /usr/local/lib/python3.8/dist-packages (from nbconvert<6.0->notebook>=4.4.1->widgetsnbextension~=3.6.0->ipywidgets<8.0.0->ax-platform) (0.6.0)\n",
            "Requirement already satisfied: defusedxml in /usr/local/lib/python3.8/dist-packages (from nbconvert<6.0->notebook>=4.4.1->widgetsnbextension~=3.6.0->ipywidgets<8.0.0->ax-platform) (0.7.1)\n",
            "Requirement already satisfied: entrypoints>=0.2.2 in /usr/local/lib/python3.8/dist-packages (from nbconvert<6.0->notebook>=4.4.1->widgetsnbextension~=3.6.0->ipywidgets<8.0.0->ax-platform) (0.4)\n",
            "Requirement already satisfied: fastjsonschema in /usr/local/lib/python3.8/dist-packages (from nbformat->notebook>=4.4.1->widgetsnbextension~=3.6.0->ipywidgets<8.0.0->ax-platform) (2.16.2)\n",
            "Requirement already satisfied: jsonschema>=2.6 in /usr/local/lib/python3.8/dist-packages (from nbformat->notebook>=4.4.1->widgetsnbextension~=3.6.0->ipywidgets<8.0.0->ax-platform) (4.3.3)\n",
            "Requirement already satisfied: pyrsistent!=0.17.0,!=0.17.1,!=0.17.2,>=0.14.0 in /usr/local/lib/python3.8/dist-packages (from jsonschema>=2.6->nbformat->notebook>=4.4.1->widgetsnbextension~=3.6.0->ipywidgets<8.0.0->ax-platform) (0.19.3)\n",
            "Requirement already satisfied: importlib-resources>=1.4.0 in /usr/local/lib/python3.8/dist-packages (from jsonschema>=2.6->nbformat->notebook>=4.4.1->widgetsnbextension~=3.6.0->ipywidgets<8.0.0->ax-platform) (5.10.2)\n",
            "Requirement already satisfied: attrs>=17.4.0 in /usr/local/lib/python3.8/dist-packages (from jsonschema>=2.6->nbformat->notebook>=4.4.1->widgetsnbextension~=3.6.0->ipywidgets<8.0.0->ax-platform) (22.2.0)\n",
            "Requirement already satisfied: webencodings in /usr/local/lib/python3.8/dist-packages (from bleach->nbconvert<6.0->notebook>=4.4.1->widgetsnbextension~=3.6.0->ipywidgets<8.0.0->ax-platform) (0.5.1)\n",
            "Requirement already satisfied: zipp>=3.1.0 in /usr/local/lib/python3.8/dist-packages (from importlib-resources>=1.4.0->jsonschema>=2.6->nbformat->notebook>=4.4.1->widgetsnbextension~=3.6.0->ipywidgets<8.0.0->ax-platform) (3.12.1)\n"
          ]
        }
      ]
    },
    {
      "cell_type": "code",
      "execution_count": 6,
      "id": "698dc31a",
      "metadata": {
        "id": "698dc31a"
      },
      "outputs": [],
      "source": [
        "import torchvision\n",
        "import torchvision.transforms as transforms\n",
        "import torch.optim as optim\n",
        "\n",
        "\n",
        "from ax.plot.contour import plot_contour\n",
        "from ax.plot.trace import optimization_trace_single_method\n",
        "from ax.service.managed_loop import optimize\n",
        "from ax.utils.notebook.plotting import render\n"
      ]
    },
    {
      "cell_type": "markdown",
      "id": "a9430471",
      "metadata": {
        "id": "a9430471"
      },
      "source": [
        "# Data \n"
      ]
    },
    {
      "cell_type": "code",
      "execution_count": 80,
      "id": "469f405d",
      "metadata": {
        "id": "469f405d"
      },
      "outputs": [],
      "source": [
        "comp = pd.read_csv('./data/Compositions.csv') #import of Composition datasheet with PbBr2, Cs-Oleate, Aceton Mixtures\n"
      ]
    },
    {
      "cell_type": "code",
      "source": [
        "Pb = np.array(comp['PbBr2  (mL)']) #PbBr2 vector\n",
        "Pb = np.reshape(Pb, (Pb.shape[0],1))\n",
        "#print(Pb)\n",
        "Cs = np.array(comp['Cs-oleate (mL)']) #Cs-oleate vector \n",
        "Cs = np.reshape(Cs, (Cs.shape[0],1))\n",
        "#print(Cs)\n",
        "Ac = np.array(comp['Aceton (mL)']) #Aceton vector\n",
        "Ac = np.reshape(Ac, (Ac.shape[0],1))\n",
        "inputs=np.array([Pb,Cs,Ac]).T "
      ],
      "metadata": {
        "id": "BZDsp4wktyja"
      },
      "id": "BZDsp4wktyja",
      "execution_count": 81,
      "outputs": []
    },
    {
      "cell_type": "code",
      "source": [
        "i=1;\n",
        "m_size=221\n",
        "m_list = [*range(1, m_size, 1)] #Select range \n",
        "\n",
        "S1c=[]\n",
        "\n",
        "Wvl=[]\n",
        "\n",
        "S_wvl=[*range(1,m_size,1)] #Initialize array where Largest Wavelength of csv will be stored \n",
        "S_wvl=np.array(S_wvl) \n",
        "\n",
        "S_mx=[*range(1,m_size,1)] #Initialize array where Largest Wavelength of csv will be stored \n",
        "S_mx=np.array(S_mx)\n",
        "\n",
        "k=os.path.abspath(\"./data\")\n",
        "n=0\n",
        "for i in m_list:\n",
        "    dat1=pd.read_csv(k+'/'+ str(i)+'.csv') #Import of Data \n",
        "    dat1=dat1[1:] #Ignores first line\n",
        "    \n",
        "    Wv =np.array(dat1['Wavelength']) #Extraction of Wavelength in csv i\n",
        "    Wv = np.reshape(Wv, (Wv.shape[0],1))\n",
        "    Wv = np.array(Wv,dtype=float)\n",
        "    \n",
        "    Wvl.append(Wv) #Stored in Wvl  \n",
        "    \n",
        "    S_1c = np.array(dat1['S1c / R1c']) #Store Maximum absorption into S_1c\n",
        "    S_1c = np.reshape(S_1c, (S_1c.shape[0],1)) \n",
        "    S_1c = np.array(S_1c,dtype=float) #changes type to float\n",
        "    \n",
        "    S1c.append(S_1c)#Stored in S1c\n",
        "    \n",
        "    S_1c_max=np.max(S_1c)  # Maximum absorption value \n",
        "    ind=np.argmax(S_1c)    #Index of Highest absorption value\n",
        "    \n",
        "    S_mx[i-1]=S_1c_max     #Store Maximum absorption value into array\n",
        "    S_mx = np.reshape(S_mx, (S_mx.shape[0],1)) #Reshapes array into a column\n",
        "                            \n",
        "    S_wvl[i-1]= Wv[ind]     #Wavelength of highest value \n",
        "    S_wvl = np.reshape(S_wvl, (S_wvl.shape[0],1)) #Reshape array into column"
      ],
      "metadata": {
        "id": "bK0Zu8tEtzT9"
      },
      "id": "bK0Zu8tEtzT9",
      "execution_count": 82,
      "outputs": []
    },
    {
      "cell_type": "code",
      "source": [
        "print(S_wvl.dtype)"
      ],
      "metadata": {
        "id": "o7l5MfOUi78s",
        "colab": {
          "base_uri": "https://localhost:8080/"
        },
        "outputId": "569ffde6-6015-4c67-d5e2-d2efdad60904"
      },
      "id": "o7l5MfOUi78s",
      "execution_count": 83,
      "outputs": [
        {
          "output_type": "stream",
          "name": "stdout",
          "text": [
            "int64\n"
          ]
        }
      ]
    },
    {
      "cell_type": "code",
      "source": [
        "S_wvl = np.array(S_wvl)\n",
        "S_wvl = np.reshape(S_wvl, (S_wvl.shape[0],1)) #Turn into array \n",
        "\n",
        "inputs = np.array(inputs)\n",
        "inputs=  np.reshape(inputs,(220,3)) #reshape vector"
      ],
      "metadata": {
        "id": "mXz1QbaNt2yY"
      },
      "id": "mXz1QbaNt2yY",
      "execution_count": 84,
      "outputs": []
    },
    {
      "cell_type": "markdown",
      "id": "850b5e6a",
      "metadata": {
        "id": "850b5e6a"
      },
      "source": [
        "# Split"
      ]
    },
    {
      "cell_type": "code",
      "execution_count": 205,
      "id": "396d22ec",
      "metadata": {
        "id": "396d22ec"
      },
      "outputs": [],
      "source": [
        "from sklearn.model_selection import train_test_split\n",
        "X_train, X_test, y_train, y_test = train_test_split(inputs, S_wvl, test_size=0.2, random_state=42) #Change random state in loop and then do same thing again "
      ]
    },
    {
      "cell_type": "code",
      "source": [
        "import numpy as np\n",
        "np.random.seed(0)\n",
        "import tensorflow as tf\n",
        "tf.random.set_seed(0) \n",
        "tf.keras.utils.set_random_seed(0)   \n",
        "tf.config.experimental.enable_op_determinism()"
      ],
      "metadata": {
        "id": "vbE9gqHZ6Bk1"
      },
      "id": "vbE9gqHZ6Bk1",
      "execution_count": 206,
      "outputs": []
    },
    {
      "cell_type": "markdown",
      "id": "ada9be45",
      "metadata": {
        "id": "ada9be45"
      },
      "source": [
        "# Optimization\n",
        "## Neural Network"
      ]
    },
    {
      "cell_type": "code",
      "execution_count": 207,
      "id": "966bdede",
      "metadata": {
        "id": "966bdede",
        "colab": {
          "base_uri": "https://localhost:8080/"
        },
        "outputId": "8cb3a88d-17c6-4a7d-d469-9a39d058e128"
      },
      "outputs": [
        {
          "output_type": "stream",
          "name": "stdout",
          "text": [
            "cuda\n",
            "int64\n"
          ]
        }
      ],
      "source": [
        "device = torch.device('cuda')\n",
        "print(device)\n",
        "print(y_train.dtype)"
      ]
    },
    {
      "cell_type": "code",
      "execution_count": 208,
      "id": "b0e73d48",
      "metadata": {
        "id": "b0e73d48"
      },
      "outputs": [],
      "source": [
        "X_train=np.array(X_train)\n",
        "X_train=torch.tensor(X_train)\n",
        "\n",
        "y_train=np.array(y_train)\n",
        "y_train=torch.tensor(y_train)\n",
        "\n",
        "X_test=np.array(X_test)\n",
        "X_test=torch.tensor(X_test)\n",
        "\n",
        "y_test=np.array(y_test)\n",
        "y_test=torch.tensor(y_test)"
      ]
    },
    {
      "cell_type": "code",
      "execution_count": 209,
      "id": "8d12515b",
      "metadata": {
        "id": "8d12515b",
        "colab": {
          "base_uri": "https://localhost:8080/"
        },
        "outputId": "b161d425-658f-4074-d7a5-8d99411d7e2e"
      },
      "outputs": [
        {
          "output_type": "stream",
          "name": "stdout",
          "text": [
            "176\n",
            "3\n",
            "176\n",
            "1\n"
          ]
        },
        {
          "output_type": "execute_result",
          "data": {
            "text/plain": [
              "<function Tensor.type>"
            ]
          },
          "metadata": {},
          "execution_count": 209
        }
      ],
      "source": [
        "print(len(X_train))\n",
        "print(len(X_train[0]))\n",
        "print(len(y_train))\n",
        "print(len(y_train[0]))\n",
        "dtype = torch.float\n",
        "X_train.type"
      ]
    },
    {
      "cell_type": "markdown",
      "id": "26cbadf6",
      "metadata": {
        "id": "26cbadf6"
      },
      "source": [
        "# Neural Network"
      ]
    },
    {
      "cell_type": "code",
      "execution_count": 210,
      "id": "a18b7293",
      "metadata": {
        "id": "a18b7293"
      },
      "outputs": [],
      "source": [
        "class Network(nn.Module):\n",
        "    \n",
        "    def __init__(self):\n",
        "        super().__init__()  \n",
        "        #name variable \"neuron\"\n",
        "        #neuron_number \n",
        "        self.linear_layers = Sequential(nn.Linear(in_features=3, out_features=5),) #out_features = neuron_number \n",
        "        self.linear_layers1 = Sequential(nn.Linear(in_features=5, out_features=5),) # in_feature = neuron_number \n",
        "        self.linear_layers2 = Sequential(nn.Linear(in_features=5, out_features=5),) \n",
        "        self.linear_layers3 = Sequential(nn.Linear(in_features=5, out_features=5),) \n",
        "\n",
        "        self.out = nn.Linear(5,1)\n",
        "    \n",
        "\n",
        "    def forward(self,x):\n",
        "\n",
        "        x = torch.nn.functional.silu(self.linear_layers(x)) #Sigmoid Linear Unit \n",
        "        x = torch.nn.functional.silu(self.linear_layers1(x)) #Sigmoid Linear Unit \n",
        "        x = torch.nn.functional.relu(self.linear_layers2(x)) #Rectified Linear Unit (ReLU)\n",
        "        x = torch.nn.functional.relu(self.linear_layers3(x)) #Rectified Linear Unit (ReLU)\n",
        "\n",
        "        x = torch.nn.functional.elu(self.out(x)) \n",
        "        return x\n",
        "        \n",
        "net = Network()  "
      ]
    },
    {
      "cell_type": "code",
      "execution_count": 211,
      "id": "3011b328",
      "metadata": {
        "id": "3011b328"
      },
      "outputs": [],
      "source": [
        "def train(\n",
        "    net: torch.nn.Module,\n",
        "    Xtrain: X_train,\n",
        "    ytrain: y_train,\n",
        "    parameters: Dict[str, float],\n",
        "    dtype: torch.dtype,\n",
        "    device: torch.device,\n",
        ") -> nn.Module:\n",
        "    \n",
        "    # Initialize network\n",
        "    net.to(dtype=float, device=device)\n",
        "    net.train()\n",
        "    \n",
        "    # Define loss and optimizer\n",
        "    criterion = nn.MSELoss()\n",
        "    optimizer = optim.SGD(\n",
        "        net.parameters(),\n",
        "        lr=parameters.get(\"lr\", 0.1),\n",
        "        #neuron_number= 5 \n",
        "        #weight_decay=parameters.get(\"weight_decay\", 0.0),\n",
        "    )\n",
        "    num_epochs = parameters.get(\"num_epochs\", 1)\n",
        "\n",
        "    # Train Network\n",
        "    # pyre-fixme[6]: Expected `int` for 1st param but got `float`.\n",
        "    for _ in range(num_epochs):\n",
        "        # move data to proper dtype and device\n",
        "        inputs_bay = Xtrain\n",
        "        labels_bay = ytrain\n",
        "        inputs_bay = inputs_bay.to(dtype=float, device=device)\n",
        "        labels_bay = labels_bay.to(dtype=float, device=device)\n",
        "\n",
        "        # zero the parameter gradients\n",
        "        optimizer.zero_grad()\n",
        "\n",
        "        # forward + backward + optimize\n",
        "        outputs = net(inputs_bay)\n",
        "        loss = criterion(outputs, labels_bay)\n",
        "        loss.backward()\n",
        "        optimizer.step()\n",
        "    return net"
      ]
    },
    {
      "cell_type": "code",
      "execution_count": 212,
      "id": "400bd91e",
      "metadata": {
        "id": "400bd91e"
      },
      "outputs": [],
      "source": [
        "def evaluate(\n",
        "    net: nn.Module, Xtest,ytest,dtype: torch.dtype, device: torch.device\n",
        ") -> float:\n",
        "    net.eval()\n",
        "    with torch.no_grad():\n",
        "        # move data to proper dtype and device\n",
        "        inputs_bay = Xtest\n",
        "        labels_bay = ytest\n",
        "\n",
        "        inputs_bay = inputs_bay.to(device='cuda:0', dtype= float)\n",
        "        labels_bay = labels_bay.to(device='cuda:0', dtype = float)\n",
        "        prediction = net.forward(inputs_bay)\n",
        "  \n",
        "        square_error=np.random.rand(prediction.shape[0])\n",
        "\n",
        "        \n",
        "        #outputs = net(inputs_bay)\n",
        "        #_, predicted = torch.max(outputs.data, 1)\n",
        "        #total += labels_bay.size(0)\n",
        "        #correct += (predicted == labels_bay).sum().item()\n",
        "\n",
        "        for i in range(len(Xtest)): \n",
        "         square_error[i] = (labels_bay[i] - prediction[i])**2\n",
        "          \n",
        "        rl_e = np.mean(square_error)\n",
        "        \n",
        "\n",
        "    return (-rl_e)"
      ]
    },
    {
      "cell_type": "code",
      "execution_count": 213,
      "id": "4513af88",
      "metadata": {
        "id": "4513af88"
      },
      "outputs": [],
      "source": [
        "def train_evaluate(parameterization):\n",
        "    net = Network()\n",
        "    net = train(net=net, Xtrain= X_train, ytrain= y_train, parameters=parameterization, dtype= torch.float, device=device)\n",
        "    return evaluate(net=net,Xtest= X_test, ytest= y_test, dtype=float, device=device)"
      ]
    },
    {
      "cell_type": "code",
      "execution_count": 214,
      "id": "e72ecd62",
      "metadata": {
        "id": "e72ecd62",
        "colab": {
          "base_uri": "https://localhost:8080/"
        },
        "outputId": "c632ce49-4c51-4b28-ca90-eb81e61848d1"
      },
      "outputs": [
        {
          "output_type": "stream",
          "name": "stderr",
          "text": [
            "[INFO 02-15 13:24:51] ax.service.utils.instantiation: Inferred value type of ParameterType.FLOAT for parameter lr. If that is not the expected value type, you can explicity specify 'value_type' ('int', 'float', 'bool' or 'str') in parameter dict.\n",
            "[INFO 02-15 13:24:51] ax.service.utils.instantiation: Created search space: SearchSpace(parameters=[RangeParameter(name='lr', parameter_type=FLOAT, range=[1e-06, 0.4], log_scale=True)], parameter_constraints=[]).\n",
            "[INFO 02-15 13:24:51] ax.modelbridge.dispatch_utils: Using Bayesian optimization since there are more ordered parameters than there are categories for the unordered categorical parameters.\n",
            "[INFO 02-15 13:24:51] ax.modelbridge.dispatch_utils: Calculating the number of remaining initialization trials based on num_initialization_trials=None max_initialization_trials=None num_tunable_parameters=1 num_trials=None use_batch_trials=False\n",
            "[INFO 02-15 13:24:51] ax.modelbridge.dispatch_utils: calculated num_initialization_trials=5\n",
            "[INFO 02-15 13:24:51] ax.modelbridge.dispatch_utils: num_completed_initialization_trials=0 num_remaining_initialization_trials=5\n",
            "[INFO 02-15 13:24:51] ax.modelbridge.dispatch_utils: Using Bayesian Optimization generation strategy: GenerationStrategy(name='Sobol+GPEI', steps=[Sobol for 5 trials, GPEI for subsequent trials]). Iterations after 5 will take longer to generate due to model-fitting.\n",
            "[INFO 02-15 13:24:51] ax.service.managed_loop: Started full optimization with 20 steps.\n",
            "[INFO 02-15 13:24:51] ax.service.managed_loop: Running optimization trial 1...\n",
            "[INFO 02-15 13:24:51] ax.service.managed_loop: Running optimization trial 2...\n",
            "[INFO 02-15 13:24:51] ax.service.managed_loop: Running optimization trial 3...\n",
            "[INFO 02-15 13:24:51] ax.service.managed_loop: Running optimization trial 4...\n",
            "[INFO 02-15 13:24:51] ax.service.managed_loop: Running optimization trial 5...\n",
            "[INFO 02-15 13:24:51] ax.service.managed_loop: Running optimization trial 6...\n",
            "[INFO 02-15 13:24:51] ax.service.managed_loop: Running optimization trial 7...\n",
            "[INFO 02-15 13:24:52] ax.modelbridge.base: Untransformed parameter 0.40000000000000013 greater than upper bound 0.4, clamping\n",
            "[INFO 02-15 13:24:52] ax.service.managed_loop: Running optimization trial 8...\n",
            "[INFO 02-15 13:24:52] ax.service.managed_loop: Running optimization trial 9...\n",
            "[INFO 02-15 13:24:52] ax.service.managed_loop: Running optimization trial 10...\n",
            "[INFO 02-15 13:24:53] ax.service.managed_loop: Running optimization trial 11...\n",
            "[INFO 02-15 13:24:54] ax.service.managed_loop: Running optimization trial 12...\n",
            "[INFO 02-15 13:24:54] ax.service.managed_loop: Running optimization trial 13...\n",
            "[INFO 02-15 13:24:55] ax.service.managed_loop: Running optimization trial 14...\n",
            "[INFO 02-15 13:24:55] ax.service.managed_loop: Running optimization trial 15...\n",
            "[INFO 02-15 13:24:56] ax.service.managed_loop: Running optimization trial 16...\n",
            "[INFO 02-15 13:24:57] ax.service.managed_loop: Running optimization trial 17...\n",
            "[INFO 02-15 13:24:57] ax.service.managed_loop: Running optimization trial 18...\n",
            "[INFO 02-15 13:24:58] ax.service.managed_loop: Running optimization trial 19...\n",
            "[INFO 02-15 13:24:59] ax.service.managed_loop: Running optimization trial 20...\n"
          ]
        }
      ],
      "source": [
        "best_parameters, values, experiment, model = optimize(\n",
        "    parameters=[\n",
        "        {\"name\": \"lr\", \"type\": \"range\", \"bounds\": [1e-6, 0.4], \"log_scale\": True},\n",
        "        #{\"name\": \"momentum\", \"type\": \"range\", \"bounds\": [0.0, 1.0]},\n",
        "        #{\"name: \"neuron_number\",\"type\":\"range\",\"bounds\":[0]}\n",
        "    ],\n",
        "    evaluation_function = train_evaluate ,\n",
        "    objective_name='maximize',)"
      ]
    },
    {
      "cell_type": "code",
      "execution_count": 2,
      "id": "92ddbbbf",
      "metadata": {
        "id": "92ddbbbf",
        "colab": {
          "base_uri": "https://localhost:8080/",
          "height": 182
        },
        "outputId": "904436bb-6d17-4de3-b81f-70a92455e91f"
      },
      "outputs": [
        {
          "output_type": "error",
          "ename": "NameError",
          "evalue": "ignored",
          "traceback": [
            "\u001b[0;31m---------------------------------------------------------------------------\u001b[0m",
            "\u001b[0;31mNameError\u001b[0m                                 Traceback (most recent call last)",
            "\u001b[0;32m<ipython-input-2-7705134caa16>\u001b[0m in \u001b[0;36m<module>\u001b[0;34m\u001b[0m\n\u001b[0;32m----> 1\u001b[0;31m \u001b[0mprint\u001b[0m\u001b[0;34m(\u001b[0m\u001b[0mbest_parameters\u001b[0m\u001b[0;34m)\u001b[0m\u001b[0;34m\u001b[0m\u001b[0;34m\u001b[0m\u001b[0m\n\u001b[0m\u001b[1;32m      2\u001b[0m \u001b[0mlr_new\u001b[0m \u001b[0;34m=\u001b[0m \u001b[0;36m0.03759647193268123\u001b[0m\u001b[0;34m\u001b[0m\u001b[0;34m\u001b[0m\u001b[0m\n",
            "\u001b[0;31mNameError\u001b[0m: name 'best_parameters' is not defined"
          ]
        }
      ],
      "source": [
        "print(best_parameters)\n",
        "lr_new = 0.03759647193268123"
      ]
    },
    {
      "cell_type": "markdown",
      "source": [
        "# Neural Network "
      ],
      "metadata": {
        "id": "hGZyM_ReB3rc"
      },
      "id": "hGZyM_ReB3rc"
    },
    {
      "cell_type": "markdown",
      "source": [
        "## Original"
      ],
      "metadata": {
        "id": "4yBJdvCnFfhD"
      },
      "id": "4yBJdvCnFfhD"
    },
    {
      "cell_type": "code",
      "source": [
        "from torch.optim import Adam # Adam optimization algorithm \n",
        "\n",
        "optm = Adam(net.parameters(), lr = 0.1)\n",
        "EPOCHS = 500 # Number of iterations \n",
        "crit=nn.MSELoss()\n",
        "\n",
        "net.to(device)\n",
        "X_train_py=torch.tensor(X_train).float()\n",
        "X_test_py=torch.tensor(X_test).float()\n",
        "y_train_py=torch.tensor(y_train).float()\n",
        "y_test_py=torch.tensor(y_test).float()\n",
        "X_train_py = X_train_py.to(device)\n",
        "y_train_py= y_train_py.to(device)\n",
        "X_test_py= X_test_py.to(device)\n",
        "y_test_py= y_test_py.to(device)\n",
        "\n",
        "\n",
        "for epoch in range(EPOCHS):    \n",
        "    epoch_loss_py = 0\n",
        "    \n",
        "    net.zero_grad()\n",
        "    output_py = net(X_train_py.float()) #model called\n",
        "    loss_py =crit(output_py,y_train_py) #Evaluate prediction \n",
        "    loss_py.backward() #Backpropagation \n",
        "    optm.step() #update of weights\n",
        "\n",
        "    prediction_py = net.forward(X_test_py) #Forward pass \n",
        "    \n",
        "    y_test_py.detach().numpy #Transformation to numpy to use np functions\n",
        "    prediction_py.detach().numpy \n",
        "    relative_error=np.random.rand(prediction_py.shape[0]) #Array of size initialized\n",
        "    nN_errors=np.random.rand(prediction_py.shape[0]) #Array of size initialized\n",
        "    \n",
        "    for i in range(prediction_py.shape[0]):\n",
        "        relative_error[i] = float(abs(prediction_py[i] - y_test_py[i])/y_test_py[i])  #Relative Error\n",
        "        nN_errors[i]=(y_test_py[i]-prediction_py[i])**2\n",
        "\n",
        "Nn_errors_mean=np.mean(nN_errors)\n",
        "print(Nn_errors_mean)"
      ],
      "metadata": {
        "id": "EmB7it-OKhHT",
        "colab": {
          "base_uri": "https://localhost:8080/"
        },
        "outputId": "83bce7aa-6c98-4aa9-b581-82dc6eadb548"
      },
      "id": "EmB7it-OKhHT",
      "execution_count": 217,
      "outputs": [
        {
          "output_type": "stream",
          "name": "stderr",
          "text": [
            "<ipython-input-217-03b656573d0e>:8: UserWarning:\n",
            "\n",
            "To copy construct from a tensor, it is recommended to use sourceTensor.clone().detach() or sourceTensor.clone().detach().requires_grad_(True), rather than torch.tensor(sourceTensor).\n",
            "\n",
            "<ipython-input-217-03b656573d0e>:9: UserWarning:\n",
            "\n",
            "To copy construct from a tensor, it is recommended to use sourceTensor.clone().detach() or sourceTensor.clone().detach().requires_grad_(True), rather than torch.tensor(sourceTensor).\n",
            "\n",
            "<ipython-input-217-03b656573d0e>:10: UserWarning:\n",
            "\n",
            "To copy construct from a tensor, it is recommended to use sourceTensor.clone().detach() or sourceTensor.clone().detach().requires_grad_(True), rather than torch.tensor(sourceTensor).\n",
            "\n",
            "<ipython-input-217-03b656573d0e>:11: UserWarning:\n",
            "\n",
            "To copy construct from a tensor, it is recommended to use sourceTensor.clone().detach() or sourceTensor.clone().detach().requires_grad_(True), rather than torch.tensor(sourceTensor).\n",
            "\n"
          ]
        },
        {
          "output_type": "stream",
          "name": "stdout",
          "text": [
            "184.01923206346956\n"
          ]
        }
      ]
    },
    {
      "cell_type": "markdown",
      "source": [
        "## Optimized Learning rate "
      ],
      "metadata": {
        "id": "uNRD883FFkJ7"
      },
      "id": "uNRD883FFkJ7"
    },
    {
      "cell_type": "code",
      "source": [
        "optimizer = Adam(net.parameters(), lr = lr_new)\n",
        "EPOCHS = 500 # Number of iterations \n",
        "criterion=nn.MSELoss()\n",
        "\n",
        "net.to(device)\n",
        "X_train_py=torch.tensor(X_train).float()\n",
        "X_test_py=torch.tensor(X_test).float()\n",
        "y_train_py=torch.tensor(y_train).float()\n",
        "y_test_py=torch.tensor(y_test).float()\n",
        "X_train_py = X_train_py.to(device)\n",
        "y_train_py= y_train_py.to(device)\n",
        "X_test_py= X_test_py.to(device)\n",
        "y_test_py= y_test_py.to(device)\n",
        "\n",
        "\n",
        "for epoch in range(EPOCHS):    \n",
        "\n",
        "    net.zero_grad()\n",
        "    output2_py = net(X_train_py.float()) #model called\n",
        "    loss2_py =criterion(output2_py,y_train_py) #Evaluate prediction \n",
        "    loss2_py.backward() #Backpropagation \n",
        "    optimizer.step() #update of weights\n",
        "\n",
        "    prediction2_py = net.forward(X_test_py) #Forward pass \n",
        "    \n",
        "    y_test_py.detach().numpy #Transformation to numpy to use np functions\n",
        "    prediction2_py.detach().numpy \n",
        "    relative_error2=np.random.rand(prediction2_py.shape[0]) #Array of size initialized\n",
        "    nN_errors2=np.random.rand(prediction2_py.shape[0]) #Array of size initialized\n",
        "    \n",
        "    for i in range(prediction2_py.shape[0]):\n",
        "        relative_error2[i] = float(abs(prediction2_py[i] - y_test_py[i])/y_test_py[i])  #Relative Error\n",
        "        nN_errors2[i]=(y_test_py[i] - prediction2_py[i])**2\n",
        "\n",
        "Nn_errors2_mean=np.mean(nN_errors2)\n",
        "print(Nn_errors2_mean)"
      ],
      "metadata": {
        "id": "ajz2Qlfhxfs_",
        "colab": {
          "base_uri": "https://localhost:8080/"
        },
        "outputId": "6b1c2b4c-1733-435e-9b11-edc8868c3c60"
      },
      "id": "ajz2Qlfhxfs_",
      "execution_count": 218,
      "outputs": [
        {
          "output_type": "stream",
          "name": "stderr",
          "text": [
            "<ipython-input-218-74d12fb33f5e>:6: UserWarning:\n",
            "\n",
            "To copy construct from a tensor, it is recommended to use sourceTensor.clone().detach() or sourceTensor.clone().detach().requires_grad_(True), rather than torch.tensor(sourceTensor).\n",
            "\n",
            "<ipython-input-218-74d12fb33f5e>:7: UserWarning:\n",
            "\n",
            "To copy construct from a tensor, it is recommended to use sourceTensor.clone().detach() or sourceTensor.clone().detach().requires_grad_(True), rather than torch.tensor(sourceTensor).\n",
            "\n",
            "<ipython-input-218-74d12fb33f5e>:8: UserWarning:\n",
            "\n",
            "To copy construct from a tensor, it is recommended to use sourceTensor.clone().detach() or sourceTensor.clone().detach().requires_grad_(True), rather than torch.tensor(sourceTensor).\n",
            "\n",
            "<ipython-input-218-74d12fb33f5e>:9: UserWarning:\n",
            "\n",
            "To copy construct from a tensor, it is recommended to use sourceTensor.clone().detach() or sourceTensor.clone().detach().requires_grad_(True), rather than torch.tensor(sourceTensor).\n",
            "\n"
          ]
        },
        {
          "output_type": "stream",
          "name": "stdout",
          "text": [
            "124.29959763857451\n"
          ]
        }
      ]
    },
    {
      "cell_type": "code",
      "source": [
        "print('MSE of Original Neural Network: ', Nn_errors_mean)\n",
        "relative_error_pcg=relative_error*100\n",
        "relative_error_avg=np.mean(relative_error_pcg)\n",
        "print(\"Average Relative Error = \" , round(relative_error_avg,3),'%')\n",
        "nN_accuracy = 100 - np.mean(relative_error_pcg)\n",
        "print('Accuracy of Original Neural Network:', round(nN_accuracy, 3), '%.')\n",
        "\n",
        "print('\\nMSE of Optimized Neural Network: ', Nn_errors2_mean)\n",
        "relative_error2_pcg=relative_error2*100\n",
        "relative_error2_avg=np.mean(relative_error2_pcg)\n",
        "print(\"Average Relative Error = \" , round(relative_error2_avg,3),'%')\n",
        "nN2_accuracy = 100 - np.mean(relative_error2_pcg)\n",
        "print('Accuracy:', round(nN2_accuracy, 3), '%.')"
      ],
      "metadata": {
        "id": "zna8X1bSK7JV",
        "colab": {
          "base_uri": "https://localhost:8080/"
        },
        "outputId": "b5a2dcd7-fff2-42f2-e681-3dbaf37a802b"
      },
      "id": "zna8X1bSK7JV",
      "execution_count": 227,
      "outputs": [
        {
          "output_type": "stream",
          "name": "stdout",
          "text": [
            "MSE of Original Neural Network:  184.01923206346956\n",
            "Average Relative Error =  1.692 %\n",
            "Accuracy of Original Neural Network: 98.308 %.\n",
            "\n",
            "MSE of Optimized Neural Network:  124.29959763857451\n",
            "Average Relative Error =  1.525 %\n",
            "Accuracy: 98.475 %.\n"
          ]
        }
      ]
    },
    {
      "cell_type": "code",
      "source": [
        "#print(prediction2_py)\n",
        "plt.figure(figsize=(5,5))\n",
        "f, ax = plt.subplots(figsize=(8, 8))\n",
        "ax.plot([425, 570], [425, 570], ls=\"-\", c=\".5\")\n",
        "for i in range (len(y_test_py)):\n",
        "    y_plot=float(y_test_py[i])\n",
        "    x2_plot=float(prediction2_py[i])\n",
        "    x_plot=float(prediction_py[i])\n",
        "    plt.plot(y_plot,x2_plot,\"x\",color='r')\n",
        "    plt.plot(y_plot,x_plot, \"o\",color='b')\n",
        "\n",
        "plt.legend(['100% accuracy','Nn Optimized','Neural Network' ],loc='upper right')\n",
        "plt.title('Prediction Acccuracy \\n Neural Network')\n",
        "plt.xlabel('Real Value')\n",
        "plt.ylabel('Prediction')\n",
        "\n",
        "plt.figure(figsize=(3,3))\n",
        "plt.hist(nN_errors)\n",
        "plt.xlabel('Error')\n",
        "plt.title('Error Distribution Original\\n Neural Network')\n",
        "\n",
        "\n",
        "plt.figure(figsize=(3,3))\n",
        "plt.hist(nN_errors2)\n",
        "plt.xlabel('Error')\n",
        "plt.title('Error Distribution with Optimization \\n Neural Network')"
      ],
      "metadata": {
        "id": "VTgo7N5ZFiW7",
        "colab": {
          "base_uri": "https://localhost:8080/",
          "height": 1000
        },
        "outputId": "16489ff0-ad29-4d68-f5e2-be4c37d767d4"
      },
      "id": "VTgo7N5ZFiW7",
      "execution_count": 228,
      "outputs": [
        {
          "output_type": "execute_result",
          "data": {
            "text/plain": [
              "Text(0.5, 1.0, 'Error Distribution with Optimization \\n Neural Network')"
            ]
          },
          "metadata": {},
          "execution_count": 228
        },
        {
          "output_type": "display_data",
          "data": {
            "text/plain": [
              "<Figure size 360x360 with 0 Axes>"
            ]
          },
          "metadata": {}
        },
        {
          "output_type": "display_data",
          "data": {
            "text/plain": [
              "<Figure size 576x576 with 1 Axes>"
            ],
            "image/png": "[encoded data removed]"
          },
          "metadata": {
            "needs_background": "light"
          }
        },
        {
          "output_type": "display_data",
          "data": {
            "text/plain": [
              "<Figure size 216x216 with 1 Axes>"
            ],
            "image/png": "[encoded data removed]"
          },
          "metadata": {
            "needs_background": "light"
          }
        },
        {
          "output_type": "display_data",
          "data": {
            "text/plain": [
              "<Figure size 216x216 with 1 Axes>"
            ],
            "image/png": "[encoded data removed]"
          },
          "metadata": {
            "needs_background": "light"
          }
        }
      ]
    },
    {
      "cell_type": "markdown",
      "source": [
        "# With K-fold cross validation "
      ],
      "metadata": {
        "id": "CDzU9pASAtdM"
      },
      "id": "CDzU9pASAtdM"
    },
    {
      "cell_type": "code",
      "source": [
        "from sklearn.model_selection import KFold\n",
        "from torch.optim import Adam # Adam optimization algorithm \n",
        "from numpy import mean\n",
        "\n",
        "n_split=4\n",
        "nN_error_kf=[]\n",
        "\n",
        "for train_index,test_index in KFold(n_split).split(inputs):\n",
        "    x_train_kf,x_test_kf= inputs[train_index],inputs[test_index]\n",
        "    y_train_kf,y_test_kf= S_wvl[train_index],S_wvl[test_index]\n",
        "        \n",
        "    params_kf = list(net.parameters())\n",
        "    optm_kf = Adam(net.parameters(), lr = lr_new)\n",
        "\n",
        "    EPOCHS = 500\n",
        "    criterion_kf = nn.MSELoss()\n",
        "    \n",
        "    x_train_kf=torch.tensor(x_train_kf).float()\n",
        "    x_test_kf=torch.tensor(x_test_kf).float()\n",
        "    y_train_kf=torch.tensor(y_train_kf).float()\n",
        "    y_test_kf=torch.tensor(y_test_kf).float()\n",
        "    \n",
        "    net.to(device)\n",
        "    x_train_kf = x_train_kf.to(device)\n",
        "    y_train_kf= y_train_kf.to(device)\n",
        "    x_test_kf= x_test_kf.to(device)\n",
        "    y_test_kf= y_test_kf.to(device)\n",
        "\n",
        "\n",
        "    for epoch in range(EPOCHS):    \n",
        "        epoch_loss_kf = 0\n",
        "    \n",
        "        net.zero_grad()\n",
        "        output_kf = net(x_train_kf.float())\n",
        "        loss_kf =criterion_kf(output_kf,y_train_kf)\n",
        "        loss_kf.backward() #training of weights \n",
        "        optm_kf.step()\n",
        "\n",
        "        prediction_kf = net.forward(x_test_kf) #Forward pass \n",
        "    \n",
        "        y_test_kf.detach().numpy\n",
        "        prediction_kf.detach().numpy\n",
        "        relative_error_kf=np.random.rand(prediction_kf.shape[0])\n",
        "        nN_errors_kf=np.random.rand(prediction_kf.shape[0])\n",
        "    \n",
        "    for i in range(prediction_kf.shape[0]):\n",
        "        relative_error_kf[i] = float(abs(prediction_kf[i] - y_test_kf[i])/y_test_kf[i])  #Relative Error\n",
        "        nN_errors_kf[i]=(y_test_kf[i]-prediction_kf[i])**2\n",
        "\n",
        "nN_error_mean_kf= np.mean(nN_errors_kf)\n"
      ],
      "metadata": {
        "id": "wXLM9cPwOt14",
        "colab": {
          "base_uri": "https://localhost:8080/"
        },
        "outputId": "06c15856-8e91-4232-82fc-831875008556"
      },
      "id": "wXLM9cPwOt14",
      "execution_count": 221,
      "outputs": [
        {
          "output_type": "stream",
          "name": "stdout",
          "text": [
            "K-fold Cross Validation\n",
            "MSE of Neural Network model:  104.73153566460718\n"
          ]
        }
      ]
    },
    {
      "cell_type": "code",
      "source": [
        "relative_error3_pcg=relative_error_kf*100\n",
        "nN3_accuracy = 100 - np.mean(relative_error3_pcg)\n",
        "\n",
        "print('K-fold Cross Validation')\n",
        "print('MSE of Neural Network model: ', nN_error_mean_kf)\n",
        "print('Accuracy:', round(nN3_accuracy, 3), '%.')"
      ],
      "metadata": {
        "colab": {
          "base_uri": "https://localhost:8080/"
        },
        "id": "OVkY-C1vSpyw",
        "outputId": "652a348d-a243-45f5-8c94-87fe8582fcd6"
      },
      "id": "OVkY-C1vSpyw",
      "execution_count": 230,
      "outputs": [
        {
          "output_type": "stream",
          "name": "stdout",
          "text": [
            "K-fold Cross Validation\n",
            "MSE of Neural Network model:  104.73153566460718\n",
            "Accuracy: 98.432 %.\n"
          ]
        }
      ]
    },
    {
      "cell_type": "code",
      "source": [
        "print(len(y_test_kf))\n",
        "print(len(y_test_py))"
      ],
      "metadata": {
        "colab": {
          "base_uri": "https://localhost:8080/"
        },
        "id": "52O36HdVOWHF",
        "outputId": "7ac28bde-a530-4736-bf9d-a294375773b6"
      },
      "id": "52O36HdVOWHF",
      "execution_count": 222,
      "outputs": [
        {
          "output_type": "stream",
          "name": "stdout",
          "text": [
            "55\n",
            "44\n"
          ]
        }
      ]
    },
    {
      "cell_type": "code",
      "source": [
        "plt.figure(figsize=(5,5))\n",
        "f, ax = plt.subplots(figsize=(8, 8))\n",
        "ax.plot([425, 570], [425, 570], ls=\"-\", c=\".5\")\n",
        "for i in range (len(y_test_kf)):\n",
        "    y_plot2=float(y_test_kf[i])\n",
        "    x2_plot=float(prediction_kf[i])\n",
        "    plt.plot(y_plot2,x2_plot,\"x\",color='g')\n",
        "\n",
        "plt.legend(['100% accuracy','With Kfold'],loc='upper right')\n",
        "plt.title('Error \\n Neural Network')\n",
        "plt.xlabel('Real Value')\n",
        "plt.ylabel('Prediction')\n",
        "\n",
        "plt.figure(figsize=(3,3))\n",
        "plt.hist(nN_errors_kf)\n",
        "plt.xlabel('Error')\n",
        "plt.title('Error Distribution with Optimization and Kfold Validation \\n Neural Network')"
      ],
      "metadata": {
        "colab": {
          "base_uri": "https://localhost:8080/",
          "height": 802
        },
        "id": "3NYRE9RXHav2",
        "outputId": "7ba2f5cc-9a3b-42af-a092-f848070521fc"
      },
      "id": "3NYRE9RXHav2",
      "execution_count": 223,
      "outputs": [
        {
          "output_type": "execute_result",
          "data": {
            "text/plain": [
              "Text(0.5, 1.0, 'Error Distribution with Optimization and Kfold Validation \\n Neural Network')"
            ]
          },
          "metadata": {},
          "execution_count": 223
        },
        {
          "output_type": "display_data",
          "data": {
            "text/plain": [
              "<Figure size 360x360 with 0 Axes>"
            ]
          },
          "metadata": {}
        },
        {
          "output_type": "display_data",
          "data": {
            "text/plain": [
              "<Figure size 576x576 with 1 Axes>"
            ],
            "image/png": "[encoded data removed]"
          },
          "metadata": {
            "needs_background": "light"
          }
        },
        {
          "output_type": "display_data",
          "data": {
            "text/plain": [
              "<Figure size 216x216 with 1 Axes>"
            ],
            "image/png": "[encoded data removed]"
          },
          "metadata": {
            "needs_background": "light"
          }
        }
      ]
    },
    {
      "cell_type": "code",
      "source": [
        "pip install webcolors"
      ],
      "metadata": {
        "colab": {
          "base_uri": "https://localhost:8080/"
        },
        "id": "ezOsvNIwXTfW",
        "outputId": "fc885d12-5029-429d-dd8a-0dae6b04f84c"
      },
      "id": "ezOsvNIwXTfW",
      "execution_count": 231,
      "outputs": [
        {
          "output_type": "stream",
          "name": "stdout",
          "text": [
            "Looking in indexes: https://pypi.org/simple, https://us-python.pkg.dev/colab-wheels/public/simple/\n",
            "Collecting webcolors\n",
            "  Downloading webcolors-1.12-py3-none-any.whl (9.9 kB)\n",
            "Installing collected packages: webcolors\n",
            "Successfully installed webcolors-1.12\n"
          ]
        }
      ]
    },
    {
      "cell_type": "code",
      "source": [
        "import webcolors\n",
        "\n",
        "def closest_colour(requested_colour):\n",
        "    min_colours = {}\n",
        "    for key, name in webcolors.CSS3_HEX_TO_NAMES.items():\n",
        "        r_c, g_c, b_c = webcolors.hex_to_rgb(key)\n",
        "        rd = (r_c - requested_colour[0]) ** 2\n",
        "        gd = (g_c - requested_colour[1]) ** 2\n",
        "        bd = (b_c - requested_colour[2]) ** 2\n",
        "        min_colours[(rd + gd + bd)] = name\n",
        "    return min_colours[min(min_colours.keys())]\n",
        "\n",
        "def get_colour_name(requested_colour):\n",
        "    try:\n",
        "        closest_name = actual_name = webcolors.rgb_to_name(requested_colour)\n",
        "    except ValueError:\n",
        "        closest_name = closest_colour(requested_colour)\n",
        "        actual_name = None\n",
        "    return actual_name, closest_name"
      ],
      "metadata": {
        "id": "UAoK8ydNXMNb"
      },
      "id": "UAoK8ydNXMNb",
      "execution_count": 246,
      "outputs": []
    },
    {
      "cell_type": "code",
      "source": [
        "import sys\n",
        "import os\n",
        "import traceback\n",
        "import optparse\n",
        "import time\n",
        "import logging\n",
        "\n",
        "#Function actually used to change the values of wavelength into colours\n",
        "def wavelength_to_rgb(wavelength, gamma=0.8):\n",
        "    '''\n",
        "    Based on code by Dan Bruton\n",
        "    http://www.physics.sfasu.edu/astro/color/spectra.html\n",
        "    '''\n",
        "\n",
        "    wavelength = float(wavelength)\n",
        "    if wavelength >= 380 and wavelength <= 440:\n",
        "        attenuation = 0.3 + 0.7 * (wavelength - 380) / (440 - 380)\n",
        "        R = ((-(wavelength - 440) / (440 - 380)) * attenuation) ** gamma\n",
        "        G = 0.0\n",
        "        B = (1.0 * attenuation) ** gamma\n",
        "    elif wavelength >= 440 and wavelength <= 490:\n",
        "        R = 0.0\n",
        "        G = ((wavelength - 440) / (490 - 440)) ** gamma\n",
        "        B = 1.0\n",
        "    elif wavelength >= 490 and wavelength <= 510:\n",
        "        R = 0.0\n",
        "        G = 1.0\n",
        "        B = (-(wavelength - 510) / (510 - 490)) ** gamma\n",
        "    elif wavelength >= 510 and wavelength <= 580:\n",
        "        R = ((wavelength - 510) / (580 - 510)) ** gamma\n",
        "        G = 1.0\n",
        "        B = 0.0\n",
        "    elif wavelength >= 580 and wavelength <= 645:\n",
        "        R = 1.0\n",
        "        G = (-(wavelength - 645) / (645 - 580)) ** gamma\n",
        "        B = 0.0\n",
        "    elif wavelength >= 645 and wavelength <= 750:\n",
        "        attenuation = 0.3 + 0.7 * (750 - wavelength) / (750 - 645)\n",
        "        R = (1.0 * attenuation) ** gamma\n",
        "        G = 0.0\n",
        "        B = 0.0\n",
        "    else:\n",
        "        R = 0.0\n",
        "        G = 0.0\n",
        "        B = 0.0\n",
        "    R *= 255\n",
        "    G *= 255\n",
        "    B *= 255\n",
        "    return (int(R), int(G), int(B))"
      ],
      "metadata": {
        "id": "_z8OwAylXG0J"
      },
      "id": "_z8OwAylXG0J",
      "execution_count": 247,
      "outputs": []
    },
    {
      "cell_type": "code",
      "source": [
        "import matplotlib.colors\n",
        "def wavelength_to_rgb_2(wavelength, gamma=0.8):\n",
        "    ''' taken from http://www.noah.org/wiki/Wavelength_to_RGB_in_Python\n",
        "    Based on code by Dan Bruton\n",
        "    http://www.physics.sfasu.edu/astro/color/spectra.html\n",
        "    Additionally alpha value set to 0.5 outside range\n",
        "    '''\n",
        "    wavelength = float(wavelength)\n",
        "    if wavelength >= 380 and wavelength <= 750:\n",
        "        A = 1.\n",
        "    else:\n",
        "        A=0.5\n",
        "    if wavelength < 380:\n",
        "        wavelength = 380.\n",
        "    if wavelength >750:\n",
        "        wavelength = 750.\n",
        "    if wavelength >= 380 and wavelength <= 440:\n",
        "        attenuation = 0.3 + 0.7 * (wavelength - 380) / (440 - 380)\n",
        "        R = ((-(wavelength - 440) / (440 - 380)) * attenuation) ** gamma\n",
        "        G = 0.0\n",
        "        B = (1.0 * attenuation) ** gamma\n",
        "    elif wavelength >= 440 and wavelength <= 490:\n",
        "        R = 0.0\n",
        "        G = ((wavelength - 440) / (490 - 440)) ** gamma\n",
        "        B = 1.0\n",
        "    elif wavelength >= 490 and wavelength <= 510:\n",
        "        R = 0.0\n",
        "        G = 1.0\n",
        "        B = (-(wavelength - 510) / (510 - 490)) ** gamma\n",
        "    elif wavelength >= 510 and wavelength <= 580:\n",
        "        R = ((wavelength - 510) / (580 - 510)) ** gamma\n",
        "        G = 1.0\n",
        "        B = 0.0\n",
        "    elif wavelength >= 580 and wavelength <= 645:\n",
        "        R = 1.0\n",
        "        G = (-(wavelength - 645) / (645 - 580)) ** gamma\n",
        "        B = 0.0\n",
        "    elif wavelength >= 645 and wavelength <= 750:\n",
        "        attenuation = 0.3 + 0.7 * (750 - wavelength) / (750 - 645)\n",
        "        R = (1.0 * attenuation) ** gamma\n",
        "        G = 0.0\n",
        "        B = 0.0\n",
        "    else:\n",
        "        R = 0.0\n",
        "        G = 0.0\n",
        "        B = 0.0\n",
        "    return (R,G,B,A)"
      ],
      "metadata": {
        "id": "pxeJWmWxYZAD"
      },
      "id": "pxeJWmWxYZAD",
      "execution_count": 249,
      "outputs": []
    },
    {
      "cell_type": "code",
      "source": [
        "float(y_test_kf[0])\n",
        "rgb=float(y_test_kf[1])\n",
        "freq=wavelength_to_rgb(rgb)\n",
        "\n",
        "freq=[]\n",
        "for i in range (prediction_kf.shape[0]):\n",
        "    rgb=float(prediction_kf[i])\n",
        "    freq.append(wavelength_to_rgb(rgb))\n",
        "\n",
        "freq2=[]\n",
        "for i in range (S_wvl.shape[0]):\n",
        "    rgb2=float(S_wvl[i])\n",
        "    freq2.append(wavelength_to_rgb(rgb2))\n",
        "\n",
        "clr_name=[]\n",
        "for i in range(len(freq)):\n",
        "    clr_name.append(closest_colour(freq[i]))\n",
        "\n",
        "clr_name2=[]\n",
        "for i in range(len(freq2)):\n",
        "    clr_name2.append(closest_colour(freq2[i]))\n",
        "#print(clr_name)\n"
      ],
      "metadata": {
        "id": "JgtJNtJ7NiYs"
      },
      "id": "JgtJNtJ7NiYs",
      "execution_count": 254,
      "outputs": []
    },
    {
      "cell_type": "code",
      "source": [
        "pl=x_test_kf[0]\n",
        "print(pl)\n",
        "print(float(pl[0]))\n",
        "#pl_x=pl[0]"
      ],
      "metadata": {
        "colab": {
          "base_uri": "https://localhost:8080/"
        },
        "id": "ltb4oNvwcA4H",
        "outputId": "943f4c59-89dc-4a23-9a76-68f032e022aa"
      },
      "id": "ltb4oNvwcA4H",
      "execution_count": 280,
      "outputs": [
        {
          "output_type": "stream",
          "name": "stdout",
          "text": [
            "tensor([0.4136, 0.1126, 0.4738], device='cuda:0')\n",
            "0.41359949111938477\n"
          ]
        }
      ]
    },
    {
      "cell_type": "code",
      "source": [
        "from mpl_toolkits import mplot3d\n",
        "%matplotlib inline\n",
        "import numpy as np\n",
        "import matplotlib.pyplot as plt\n",
        "fig = plt.figure()\n",
        "ax = plt.axes(projection='3d')\n",
        "\n",
        "# Data for a three-dimensional line\n",
        "print(len(Cs))\n",
        "plt.figure(figsize=(15,15)) \n",
        "for i in range (x_test_kf.shape[0]):\n",
        "    pl=x_test_kf[i]\n",
        "    pl_x=float(pl[0]) #Pb\n",
        "    pl_y=float(pl[1]) #Cs\n",
        "    pl_z=float(pl[2]) #Ac\n",
        "    sctt=ax.scatter3D(pl_x,pl_y,pl_z,c=[clr_name[i]])\n",
        "\n",
        "ax.set_xlabel('PbBr2 ', fontweight ='bold')\n",
        "ax.set_ylabel('Cs-oleate', fontweight ='bold')\n",
        "ax.set_zlabel('Aceton', fontweight ='bold')\n",
        "ax.set_title('Spector Property Prediction with AI \\nNeural Network Optimized')\n",
        "\n",
        "#Uncomment to view specific precursor: \n",
        "#ax.view_init(10, 45) #Isometric view\n",
        "#ax.view_init(10, 90) #PbBr2\n",
        "ax.view_init(90, 0) # Cs-oleate\n",
        "#ax.view_init(0, 90) # Aceton\n",
        "\n",
        "clim=(350,780)\n",
        "norm = plt.Normalize(*clim)\n",
        "wl = np.arange(clim[0],clim[1]+1,2)\n",
        "colorlist = list(zip(norm(wl),[wavelength_to_rgb_2(w) for w in wl]))\n",
        "spectralmap = matplotlib.colors.LinearSegmentedColormap.from_list(\"spectrum\", colorlist)\n",
        "\n",
        "fig, axs = plt.subplots(1, 1, figsize=(3,3), tight_layout=True)\n",
        "\n",
        "wavelengths = np.linspace(200, 1000, 1000)\n",
        "spectrum = (5 + np.sin(wavelengths*0.1)**2) * np.exp(-0.00002*(wavelengths-600)**2)\n",
        "plt.plot(wavelengths, spectrum, color='darkred')\n",
        "\n",
        "y = np.linspace(0, 6, 100)\n",
        "X,Y = np.meshgrid(wavelengths, y)\n",
        "\n",
        "extent=(np.min(wavelengths), np.max(wavelengths), np.min(y), np.max(y))\n",
        "\n",
        "plt.imshow(X, clim=clim,  extent=extent, cmap=spectralmap, aspect='auto')\n",
        "plt.xlabel('Wavelength (nm)')\n",
        "plt.ylabel('Intensity')\n",
        "plt.fill_between(wavelengths, spectrum, 8, color='w')"
      ],
      "metadata": {
        "colab": {
          "base_uri": "https://localhost:8080/",
          "height": 466
        },
        "id": "lSV0ZVdMY5C3",
        "outputId": "9a64c587-4213-43b4-9e46-85fb5f27d05f"
      },
      "id": "lSV0ZVdMY5C3",
      "execution_count": 1,
      "outputs": [
        {
          "output_type": "error",
          "ename": "NameError",
          "evalue": "ignored",
          "traceback": [
            "\u001b[0;31m---------------------------------------------------------------------------\u001b[0m",
            "\u001b[0;31mNameError\u001b[0m                                 Traceback (most recent call last)",
            "\u001b[0;32m<ipython-input-1-c87d4b64f1c9>\u001b[0m in \u001b[0;36m<module>\u001b[0;34m\u001b[0m\n\u001b[1;32m      7\u001b[0m \u001b[0;34m\u001b[0m\u001b[0m\n\u001b[1;32m      8\u001b[0m \u001b[0;31m# Data for a three-dimensional line\u001b[0m\u001b[0;34m\u001b[0m\u001b[0;34m\u001b[0m\u001b[0;34m\u001b[0m\u001b[0m\n\u001b[0;32m----> 9\u001b[0;31m \u001b[0mprint\u001b[0m\u001b[0;34m(\u001b[0m\u001b[0mlen\u001b[0m\u001b[0;34m(\u001b[0m\u001b[0mCs\u001b[0m\u001b[0;34m)\u001b[0m\u001b[0;34m)\u001b[0m\u001b[0;34m\u001b[0m\u001b[0;34m\u001b[0m\u001b[0m\n\u001b[0m\u001b[1;32m     10\u001b[0m \u001b[0mplt\u001b[0m\u001b[0;34m.\u001b[0m\u001b[0mfigure\u001b[0m\u001b[0;34m(\u001b[0m\u001b[0mfigsize\u001b[0m\u001b[0;34m=\u001b[0m\u001b[0;34m(\u001b[0m\u001b[0;36m15\u001b[0m\u001b[0;34m,\u001b[0m\u001b[0;36m15\u001b[0m\u001b[0;34m)\u001b[0m\u001b[0;34m)\u001b[0m\u001b[0;34m\u001b[0m\u001b[0;34m\u001b[0m\u001b[0m\n\u001b[1;32m     11\u001b[0m \u001b[0;32mfor\u001b[0m \u001b[0mi\u001b[0m \u001b[0;32min\u001b[0m \u001b[0mrange\u001b[0m \u001b[0;34m(\u001b[0m\u001b[0mx_test_kf\u001b[0m\u001b[0;34m.\u001b[0m\u001b[0mshape\u001b[0m\u001b[0;34m[\u001b[0m\u001b[0;36m0\u001b[0m\u001b[0;34m]\u001b[0m\u001b[0;34m)\u001b[0m\u001b[0;34m:\u001b[0m\u001b[0;34m\u001b[0m\u001b[0;34m\u001b[0m\u001b[0m\n",
            "\u001b[0;31mNameError\u001b[0m: name 'Cs' is not defined"
          ]
        },
        {
          "output_type": "display_data",
          "data": {
            "text/plain": [
              "<Figure size 432x288 with 1 Axes>"
            ],
            "image/png": "[encoded data removed]"
          },
          "metadata": {
            "needs_background": "light"
          }
        }
      ]
    },
    {
      "cell_type": "code",
      "source": [
        "a*"
      ],
      "metadata": {
        "id": "wxhWMisiaPAx"
      },
      "id": "wxhWMisiaPAx",
      "execution_count": null,
      "outputs": []
    }
  ],
  "metadata": {
    "kernelspec": {
      "display_name": "Python 3 (ipykernel)",
      "language": "python",
      "name": "python3"
    },
    "language_info": {
      "codemirror_mode": {
        "name": "ipython",
        "version": 3
      },
      "file_extension": ".py",
      "mimetype": "text/x-python",
      "name": "python",
      "nbconvert_exporter": "python",
      "pygments_lexer": "ipython3",
      "version": "3.9.13"
    },
    "colab": {
      "provenance": []
    },
    "accelerator": "GPU",
    "gpuClass": "standard"
  },
  "nbformat": 4,
  "nbformat_minor": 5
}